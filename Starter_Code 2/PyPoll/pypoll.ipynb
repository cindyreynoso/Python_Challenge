{
 "cells": [
  {
   "cell_type": "code",
   "execution_count": 1,
   "metadata": {},
   "outputs": [],
   "source": [
    "#reading csv file \n",
    "import os\n",
    "import csv"
   ]
  },
  {
   "cell_type": "code",
   "execution_count": 9,
   "metadata": {},
   "outputs": [
    {
     "name": "stdout",
     "output_type": "stream",
     "text": [
      "Election Results\n",
      "--------------------\n",
      "Total Votes: 369711\n",
      "--------------------\n",
      "Charles Casper Stockham: 0.000% (1)\n",
      "Diana DeGette: 0.000% (1)\n",
      "Raymon Anthony Doane: 0.000% (1)\n",
      "---------------------\n",
      "winner: Charles Casper Stockham\n",
      "-----------------------\n"
     ]
    }
   ],
   "source": [
    "#set one path for files decrared variables\n",
    "py_poll_csv = os.path.join('..',\"PyPoll\",\"Resources\",\"election_data.csv\")\n",
    "total_votes = 0\n",
    "candidate_votes = {}\n",
    "candidates = []\n",
    "\n",
    "\n",
    "\n",
    "#open csv file and skip header row\n",
    "\n",
    "\n",
    "with open(py_poll_csv) as csvfile:\n",
    "    csvreader = csv.reader(csvfile, delimiter = \",\")\n",
    "    csv_reader = next(csvreader)\n",
    "\n",
    "#total of votes and print results\n",
    "\n",
    "    for row in csvreader:\n",
    "        total_votes += 1\n",
    "        candidate = row[2]\n",
    "        if candidate not in candidates:\n",
    "            candidates.append(candidate)\n",
    "            candidate_votes[candidate] = 0\n",
    "            candidate_votes[candidate] += 1\n",
    "        \n",
    "        \n",
    "candidate_percentages = {}\n",
    "for candidate in candidates:\n",
    "     votes = candidate_votes[candidate]\n",
    "     percentage = (votes / total_votes) * 100\n",
    "     candidate_percentages[candidate] = percentage\n",
    "\n",
    "winner = max(candidate_votes, key=candidate_votes.get)\n",
    "\n",
    "#print results pf election \n",
    "print(\"Election Results\")\n",
    "print(\"--------------------\")\n",
    "print(f\"Total Votes: {total_votes}\")\n",
    "print(\"--------------------\")\n",
    "for candidate in candidates:\n",
    "    print(f\"{candidate}: {candidate_percentages[candidate]:.3f}% ({candidate_votes[candidate]})\")\n",
    "print(\"---------------------\")\n",
    "print(f\"winner: {winner}\")\n",
    "print(\"-----------------------\")\n",
    "\n",
    "\n",
    "\n",
    "\n",
    "            \n",
    "\n",
    "\n",
    "\n",
    "\n",
    "\n",
    "    \n",
    "        \n",
    "\n"
   ]
  },
  {
   "cell_type": "code",
   "execution_count": null,
   "metadata": {},
   "outputs": [],
   "source": []
  }
 ],
 "metadata": {
  "kernelspec": {
   "display_name": "base",
   "language": "python",
   "name": "python3"
  },
  "language_info": {
   "codemirror_mode": {
    "name": "ipython",
    "version": 3
   },
   "file_extension": ".py",
   "mimetype": "text/x-python",
   "name": "python",
   "nbconvert_exporter": "python",
   "pygments_lexer": "ipython3",
   "version": "3.11.5"
  }
 },
 "nbformat": 4,
 "nbformat_minor": 2
}
