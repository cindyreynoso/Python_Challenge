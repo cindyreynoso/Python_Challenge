{
 "cells": [
  {
   "cell_type": "code",
   "execution_count": 94,
   "metadata": {},
   "outputs": [
    {
     "name": "stdout",
     "output_type": "stream",
     "text": [
      "Financial Analysis\n",
      "-----------------------\n",
      "Total Months: 86\n",
      "Total: $ 22564198\n",
      "Average Change: $ -8311.105882352942\n",
      "Greatest Increase in Profits: $ 1862002 Aug-16\n",
      "Greatest Decrease in Profits: $ -1825558 Feb-14\n"
     ]
    }
   ],
   "source": [
    "#reading csv files\n",
    "\n",
    "import os\n",
    "import csv\n",
    "\n",
    "# Set path for files and declared varibles \n",
    "\n",
    "csvpath = os.path.join(\"/Users/cindyreynoso/Documents/Data_Class/Python_Challenge/Starter_Code 2/PyBank/Resources/budget_data.csv\")\n",
    "\n",
    "total_months = []\n",
    "total_profits = []\n",
    "profits_changes = 0\n",
    "monthly_changes = []\n",
    "previous_value = 0\n",
    "\n",
    "#open cvs file\n",
    "\n",
    "with open(csvpath) as csvfile:\n",
    "    csvreader = csv.reader(csvfile, delimiter = \",\")\n",
    "    csv_reader = next(csvreader)\n",
    "\n",
    "    for row in csvreader:\n",
    "        total_months.append(row[0])\n",
    "        total_profits.append(row[1])\n",
    "\n",
    "#the total amout of \"profit and losses\"\n",
    "\n",
    "    total_profits = [int(x)for x in total_profits]\n",
    "    total_profits_sum = sum(total_profits)\n",
    "\n",
    "    for i in range(len(total_profits)-1):\n",
    "        monthly_changes.append(total_profits[i+1]- total_profits[i])\n",
    "        change = monthly_changes\n",
    "\n",
    "#calcutating the average,  greatest increase and decrease profits\n",
    "\n",
    "    average_change = sum(change)/ len(change)\n",
    "    greatest_increase = max(change)\n",
    "    greatest_increase_date = total_months[change.index(greatest_increase)+1]\n",
    "    greatest_decrease = min(change)\n",
    "    greatest_decrease_date = total_months[change.index(greatest_decrease)+1]\n",
    "\n",
    "#print final analysis\n",
    "\n",
    "    print(\"Financial Analysis\")\n",
    "    print(\"-----------------------\")\n",
    "    print(f\"Total Months:\", len(total_months))\n",
    "    print(f\"Total: $\", total_profits_sum)\n",
    "    print(f\"Average Change: $\", average_change)\n",
    "    print(f\"Greatest Increase in Profits: $\", greatest_increase, greatest_increase_date)\n",
    "    print(f\"Greatest Decrease in Profits: $\", greatest_decrease, greatest_decrease_date)\n",
    "    \n",
    "\n",
    "\n",
    "\n",
    "\n",
    "\n",
    "\n",
    "\n",
    "        \n",
    "\n",
    "\n",
    "\n",
    "\n",
    "\n",
    "\n",
    "\n",
    "\n",
    "\n",
    "\n",
    "\n",
    "\n",
    "\n",
    "\n",
    "\n",
    "\n",
    "\n",
    "\n",
    "\n"
   ]
  },
  {
   "cell_type": "code",
   "execution_count": null,
   "metadata": {},
   "outputs": [],
   "source": [
    "\n"
   ]
  },
  {
   "cell_type": "code",
   "execution_count": null,
   "metadata": {},
   "outputs": [],
   "source": []
  },
  {
   "cell_type": "code",
   "execution_count": null,
   "metadata": {},
   "outputs": [],
   "source": []
  }
 ],
 "metadata": {
  "kernelspec": {
   "display_name": "base",
   "language": "python",
   "name": "python3"
  },
  "language_info": {
   "codemirror_mode": {
    "name": "ipython",
    "version": 3
   },
   "file_extension": ".py",
   "mimetype": "text/x-python",
   "name": "python",
   "nbconvert_exporter": "python",
   "pygments_lexer": "ipython3",
   "version": "3.11.5"
  }
 },
 "nbformat": 4,
 "nbformat_minor": 2
}
